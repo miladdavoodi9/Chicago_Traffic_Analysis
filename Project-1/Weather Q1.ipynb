{
 "cells": [
  {
   "cell_type": "code",
   "execution_count": 1,
   "metadata": {},
   "outputs": [],
   "source": [
    "import pandas as pd\n",
    "import matplotlib.pyplot as plt\n",
    "import numpy as np\n",
    "import os\n",
    "import csv\n"
   ]
  },
  {
   "cell_type": "code",
   "execution_count": 2,
   "metadata": {},
   "outputs": [],
   "source": [
    "#Create reference to CSV file for second file\n",
    "csv_path_crashes = \"../Resources/Traffic_Crashes_-_Crashes.csv\"\n",
    "\n",
    "df2 = pd.read_csv(csv_path_crashes, low_memory=False)"
   ]
  },
  {
   "cell_type": "code",
   "execution_count": 3,
   "metadata": {},
   "outputs": [],
   "source": [
    "df2 = df2 [[\"INTERSECTION_RELATED_I\",\"ROADWAY_SURFACE_COND\"]]\n"
   ]
  },
  {
   "cell_type": "code",
   "execution_count": 4,
   "metadata": {},
   "outputs": [
    {
     "data": {
      "text/plain": [
       "Y    53313\n",
       "N     2491\n",
       "Name: INTERSECTION_RELATED_I, dtype: int64"
      ]
     },
     "execution_count": 4,
     "metadata": {},
     "output_type": "execute_result"
    }
   ],
   "source": [
    "df2['INTERSECTION_RELATED_I'].value_counts()\n"
   ]
  },
  {
   "cell_type": "code",
   "execution_count": 5,
   "metadata": {},
   "outputs": [
    {
     "data": {
      "text/plain": [
       "DRY                196939\n",
       "WET                 35826\n",
       "UNKNOWN             17192\n",
       "SNOW OR SLUSH        8685\n",
       "ICE                  1848\n",
       "OTHER                 636\n",
       "SAND, MUD, DIRT       139\n",
       "Name: ROADWAY_SURFACE_COND, dtype: int64"
      ]
     },
     "execution_count": 5,
     "metadata": {},
     "output_type": "execute_result"
    }
   ],
   "source": [
    "df2['ROADWAY_SURFACE_COND'].value_counts()"
   ]
  },
  {
   "cell_type": "code",
   "execution_count": 6,
   "metadata": {},
   "outputs": [
    {
     "data": {
      "text/html": [
       "<div>\n",
       "<style scoped>\n",
       "    .dataframe tbody tr th:only-of-type {\n",
       "        vertical-align: middle;\n",
       "    }\n",
       "\n",
       "    .dataframe tbody tr th {\n",
       "        vertical-align: top;\n",
       "    }\n",
       "\n",
       "    .dataframe thead th {\n",
       "        text-align: right;\n",
       "    }\n",
       "</style>\n",
       "<table border=\"1\" class=\"dataframe\">\n",
       "  <thead>\n",
       "    <tr style=\"text-align: right;\">\n",
       "      <th></th>\n",
       "      <th>INTERSECTION_RELATED_I</th>\n",
       "      <th>ROADWAY_SURFACE_COND</th>\n",
       "    </tr>\n",
       "  </thead>\n",
       "  <tbody>\n",
       "    <tr>\n",
       "      <th>2</th>\n",
       "      <td>Y</td>\n",
       "      <td>SNOW OR SLUSH</td>\n",
       "    </tr>\n",
       "    <tr>\n",
       "      <th>4</th>\n",
       "      <td>Y</td>\n",
       "      <td>SNOW OR SLUSH</td>\n",
       "    </tr>\n",
       "    <tr>\n",
       "      <th>8</th>\n",
       "      <td>Y</td>\n",
       "      <td>SNOW OR SLUSH</td>\n",
       "    </tr>\n",
       "    <tr>\n",
       "      <th>9</th>\n",
       "      <td>Y</td>\n",
       "      <td>SNOW OR SLUSH</td>\n",
       "    </tr>\n",
       "    <tr>\n",
       "      <th>19</th>\n",
       "      <td>Y</td>\n",
       "      <td>WET</td>\n",
       "    </tr>\n",
       "    <tr>\n",
       "      <th>...</th>\n",
       "      <td>...</td>\n",
       "      <td>...</td>\n",
       "    </tr>\n",
       "    <tr>\n",
       "      <th>261223</th>\n",
       "      <td>Y</td>\n",
       "      <td>DRY</td>\n",
       "    </tr>\n",
       "    <tr>\n",
       "      <th>261226</th>\n",
       "      <td>Y</td>\n",
       "      <td>DRY</td>\n",
       "    </tr>\n",
       "    <tr>\n",
       "      <th>261233</th>\n",
       "      <td>Y</td>\n",
       "      <td>DRY</td>\n",
       "    </tr>\n",
       "    <tr>\n",
       "      <th>261234</th>\n",
       "      <td>Y</td>\n",
       "      <td>DRY</td>\n",
       "    </tr>\n",
       "    <tr>\n",
       "      <th>261252</th>\n",
       "      <td>Y</td>\n",
       "      <td>DRY</td>\n",
       "    </tr>\n",
       "  </tbody>\n",
       "</table>\n",
       "<p>55804 rows × 2 columns</p>\n",
       "</div>"
      ],
      "text/plain": [
       "       INTERSECTION_RELATED_I ROADWAY_SURFACE_COND\n",
       "2                           Y        SNOW OR SLUSH\n",
       "4                           Y        SNOW OR SLUSH\n",
       "8                           Y        SNOW OR SLUSH\n",
       "9                           Y        SNOW OR SLUSH\n",
       "19                          Y                  WET\n",
       "...                       ...                  ...\n",
       "261223                      Y                  DRY\n",
       "261226                      Y                  DRY\n",
       "261233                      Y                  DRY\n",
       "261234                      Y                  DRY\n",
       "261252                      Y                  DRY\n",
       "\n",
       "[55804 rows x 2 columns]"
      ]
     },
     "execution_count": 6,
     "metadata": {},
     "output_type": "execute_result"
    }
   ],
   "source": [
    "df2[df2.INTERSECTION_RELATED_I.isin(['Y','N'])]"
   ]
  },
  {
   "cell_type": "code",
   "execution_count": 7,
   "metadata": {},
   "outputs": [
    {
     "data": {
      "text/plain": [
       "DRY                196939\n",
       "WET                 35826\n",
       "UNKNOWN             17192\n",
       "SNOW OR SLUSH        8685\n",
       "ICE                  1848\n",
       "OTHER                 636\n",
       "SAND, MUD, DIRT       139\n",
       "Name: ROADWAY_SURFACE_COND, dtype: int64"
      ]
     },
     "execution_count": 7,
     "metadata": {},
     "output_type": "execute_result"
    }
   ],
   "source": [
    "df2['ROADWAY_SURFACE_COND'].value_counts()"
   ]
  },
  {
   "cell_type": "code",
   "execution_count": 8,
   "metadata": {},
   "outputs": [
    {
     "data": {
      "image/png": "[encoded data removed]",
      "text/plain": [
       "<Figure size 432x288 with 1 Axes>"
      ]
     },
     "metadata": {
      "needs_background": "light"
     },
     "output_type": "display_data"
    },
    {
     "data": {
      "text/plain": [
       "<Figure size 432x288 with 0 Axes>"
      ]
     },
     "metadata": {},
     "output_type": "display_data"
    }
   ],
   "source": [
    "df2=df2.groupby(['ROADWAY_SURFACE_COND','INTERSECTION_RELATED_I']).INTERSECTION_RELATED_I.count()\n",
    "df2=pd.DataFrame(df2)\n",
    "df2.columns = ['cnt']\n",
    "df2 = df2.reset_index(level=1)\n",
    "df2.pivot_table(index=df2.index,columns=\"INTERSECTION_RELATED_I\",values='cnt').plot.bar()\n",
    "\n",
    "#my_plot=df2['WEATHER_CONDITION'].value_counts().plot(kind='bar',figsize=(20,3))\n",
    "\n",
    "#df2.plot(kind=\"bar\",figsize=(20,3))\n",
    "plt.title(\"Weather Conditions\")\n",
    "plt.xlabel(\"Conditions\")\n",
    "plt.ylabel(\"Intersections\")\n",
    "plt.show()\n",
    "plt.tight_layout()"
   ]
  },
  {
   "cell_type": "markdown",
   "metadata": {},
   "source": [
    "Question 1\n",
    " In which road surface condition effects intersection crashes the most?"
   ]
  },
  {
   "cell_type": "code",
   "execution_count": null,
   "metadata": {},
   "outputs": [],
   "source": []
  },
  {
   "cell_type": "code",
   "execution_count": null,
   "metadata": {},
   "outputs": [],
   "source": []
  }
 ],
 "metadata": {
  "kernelspec": {
   "display_name": "Python 3",
   "language": "python",
   "name": "python3"
  },
  "language_info": {
   "codemirror_mode": {
    "name": "ipython",
    "version": 3
   },
   "file_extension": ".py",
   "mimetype": "text/x-python",
   "name": "python",
   "nbconvert_exporter": "python",
   "pygments_lexer": "ipython3",
   "version": "3.7.3"
  }
 },
 "nbformat": 4,
 "nbformat_minor": 4
}
