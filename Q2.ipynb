{
 "cells": [
  {
   "cell_type": "code",
   "execution_count": 1,
   "metadata": {},
   "outputs": [],
   "source": [
    "import pandas as pd\n",
    "import matplotlib.pyplot as plt\n",
    "import numpy as np\n",
    "import os\n",
    "import csv"
   ]
  },
  {
   "cell_type": "code",
   "execution_count": 2,
   "metadata": {},
   "outputs": [],
   "source": [
    "csv_path_crashes = \"../Resources/Traffic_Crashes_-_Crashes.csv\"\n",
    "\n",
    "df2 = pd.read_csv(csv_path_crashes, low_memory=False)"
   ]
  },
  {
   "cell_type": "code",
   "execution_count": 4,
   "metadata": {},
   "outputs": [
    {
     "data": {
      "text/plain": [
       "CLEAR                     296387\n",
       "RAIN                       34777\n",
       "UNKNOWN                    16161\n",
       "SNOW                       13157\n",
       "CLOUDY/OVERCAST            11424\n",
       "OTHER                       1206\n",
       "FOG/SMOKE/HAZE               700\n",
       "SLEET/HAIL                   604\n",
       "FREEZING RAIN/DRIZZLE        203\n",
       "SEVERE CROSS WIND GATE        84\n",
       "BLOWING SNOW                  25\n",
       "Name: WEATHER_CONDITION, dtype: int64"
      ]
     },
     "execution_count": 4,
     "metadata": {},
     "output_type": "execute_result"
    }
   ],
   "source": [
    "df2['WEATHER_CONDITION'].value_counts()"
   ]
  },
  {
   "cell_type": "code",
   "execution_count": 5,
   "metadata": {},
   "outputs": [
    {
     "data": {
      "text/plain": [
       "NO INJURY / DRIVE AWAY              289171\n",
       "INJURY AND / OR TOW DUE TO CRASH     85557\n",
       "Name: CRASH_TYPE, dtype: int64"
      ]
     },
     "execution_count": 5,
     "metadata": {},
     "output_type": "execute_result"
    }
   ],
   "source": [
    "df2['CRASH_TYPE'].value_counts()"
   ]
  },
  {
   "cell_type": "code",
   "execution_count": 6,
   "metadata": {},
   "outputs": [
    {
     "data": {
      "text/html": [
       "<div>\n",
       "<style scoped>\n",
       "    .dataframe tbody tr th:only-of-type {\n",
       "        vertical-align: middle;\n",
       "    }\n",
       "\n",
       "    .dataframe tbody tr th {\n",
       "        vertical-align: top;\n",
       "    }\n",
       "\n",
       "    .dataframe thead th {\n",
       "        text-align: right;\n",
       "    }\n",
       "</style>\n",
       "<table border=\"1\" class=\"dataframe\">\n",
       "  <thead>\n",
       "    <tr style=\"text-align: right;\">\n",
       "      <th></th>\n",
       "      <th>WEATHER_CONDITION</th>\n",
       "      <th>CRASH_TYPE</th>\n",
       "    </tr>\n",
       "  </thead>\n",
       "  <tbody>\n",
       "    <tr>\n",
       "      <td>0</td>\n",
       "      <td>CLEAR</td>\n",
       "      <td>NO INJURY / DRIVE AWAY</td>\n",
       "    </tr>\n",
       "    <tr>\n",
       "      <td>1</td>\n",
       "      <td>CLEAR</td>\n",
       "      <td>NO INJURY / DRIVE AWAY</td>\n",
       "    </tr>\n",
       "    <tr>\n",
       "      <td>2</td>\n",
       "      <td>CLEAR</td>\n",
       "      <td>NO INJURY / DRIVE AWAY</td>\n",
       "    </tr>\n",
       "    <tr>\n",
       "      <td>3</td>\n",
       "      <td>CLEAR</td>\n",
       "      <td>NO INJURY / DRIVE AWAY</td>\n",
       "    </tr>\n",
       "    <tr>\n",
       "      <td>4</td>\n",
       "      <td>CLEAR</td>\n",
       "      <td>NO INJURY / DRIVE AWAY</td>\n",
       "    </tr>\n",
       "  </tbody>\n",
       "</table>\n",
       "</div>"
      ],
      "text/plain": [
       "  WEATHER_CONDITION              CRASH_TYPE\n",
       "0             CLEAR  NO INJURY / DRIVE AWAY\n",
       "1             CLEAR  NO INJURY / DRIVE AWAY\n",
       "2             CLEAR  NO INJURY / DRIVE AWAY\n",
       "3             CLEAR  NO INJURY / DRIVE AWAY\n",
       "4             CLEAR  NO INJURY / DRIVE AWAY"
      ]
     },
     "execution_count": 6,
     "metadata": {},
     "output_type": "execute_result"
    }
   ],
   "source": [
    "df2 =df2[['WEATHER_CONDITION', 'CRASH_TYPE']]\n",
    "df2.head()"
   ]
  },
  {
   "cell_type": "code",
   "execution_count": 7,
   "metadata": {},
   "outputs": [
    {
     "data": {
      "text/html": [
       "<div>\n",
       "<style scoped>\n",
       "    .dataframe tbody tr th:only-of-type {\n",
       "        vertical-align: middle;\n",
       "    }\n",
       "\n",
       "    .dataframe tbody tr th {\n",
       "        vertical-align: top;\n",
       "    }\n",
       "\n",
       "    .dataframe thead th {\n",
       "        text-align: right;\n",
       "    }\n",
       "</style>\n",
       "<table border=\"1\" class=\"dataframe\">\n",
       "  <thead>\n",
       "    <tr style=\"text-align: right;\">\n",
       "      <th></th>\n",
       "      <th>WEATHER_CONDITION</th>\n",
       "      <th>CRASH_TYPE</th>\n",
       "    </tr>\n",
       "  </thead>\n",
       "  <tbody>\n",
       "    <tr>\n",
       "      <td>7</td>\n",
       "      <td>CLEAR</td>\n",
       "      <td>INJURY AND / OR TOW DUE TO CRASH</td>\n",
       "    </tr>\n",
       "    <tr>\n",
       "      <td>10</td>\n",
       "      <td>CLOUDY/OVERCAST</td>\n",
       "      <td>INJURY AND / OR TOW DUE TO CRASH</td>\n",
       "    </tr>\n",
       "    <tr>\n",
       "      <td>12</td>\n",
       "      <td>CLEAR</td>\n",
       "      <td>INJURY AND / OR TOW DUE TO CRASH</td>\n",
       "    </tr>\n",
       "    <tr>\n",
       "      <td>13</td>\n",
       "      <td>RAIN</td>\n",
       "      <td>INJURY AND / OR TOW DUE TO CRASH</td>\n",
       "    </tr>\n",
       "    <tr>\n",
       "      <td>16</td>\n",
       "      <td>UNKNOWN</td>\n",
       "      <td>INJURY AND / OR TOW DUE TO CRASH</td>\n",
       "    </tr>\n",
       "    <tr>\n",
       "      <td>...</td>\n",
       "      <td>...</td>\n",
       "      <td>...</td>\n",
       "    </tr>\n",
       "    <tr>\n",
       "      <td>374709</td>\n",
       "      <td>CLEAR</td>\n",
       "      <td>INJURY AND / OR TOW DUE TO CRASH</td>\n",
       "    </tr>\n",
       "    <tr>\n",
       "      <td>374712</td>\n",
       "      <td>CLEAR</td>\n",
       "      <td>INJURY AND / OR TOW DUE TO CRASH</td>\n",
       "    </tr>\n",
       "    <tr>\n",
       "      <td>374715</td>\n",
       "      <td>RAIN</td>\n",
       "      <td>INJURY AND / OR TOW DUE TO CRASH</td>\n",
       "    </tr>\n",
       "    <tr>\n",
       "      <td>374723</td>\n",
       "      <td>CLEAR</td>\n",
       "      <td>INJURY AND / OR TOW DUE TO CRASH</td>\n",
       "    </tr>\n",
       "    <tr>\n",
       "      <td>374725</td>\n",
       "      <td>CLEAR</td>\n",
       "      <td>INJURY AND / OR TOW DUE TO CRASH</td>\n",
       "    </tr>\n",
       "  </tbody>\n",
       "</table>\n",
       "<p>85557 rows × 2 columns</p>\n",
       "</div>"
      ],
      "text/plain": [
       "       WEATHER_CONDITION                        CRASH_TYPE\n",
       "7                  CLEAR  INJURY AND / OR TOW DUE TO CRASH\n",
       "10       CLOUDY/OVERCAST  INJURY AND / OR TOW DUE TO CRASH\n",
       "12                 CLEAR  INJURY AND / OR TOW DUE TO CRASH\n",
       "13                  RAIN  INJURY AND / OR TOW DUE TO CRASH\n",
       "16               UNKNOWN  INJURY AND / OR TOW DUE TO CRASH\n",
       "...                  ...                               ...\n",
       "374709             CLEAR  INJURY AND / OR TOW DUE TO CRASH\n",
       "374712             CLEAR  INJURY AND / OR TOW DUE TO CRASH\n",
       "374715              RAIN  INJURY AND / OR TOW DUE TO CRASH\n",
       "374723             CLEAR  INJURY AND / OR TOW DUE TO CRASH\n",
       "374725             CLEAR  INJURY AND / OR TOW DUE TO CRASH\n",
       "\n",
       "[85557 rows x 2 columns]"
      ]
     },
     "execution_count": 7,
     "metadata": {},
     "output_type": "execute_result"
    }
   ],
   "source": [
    "df2[df2.CRASH_TYPE.isin(['INJURY AND / OR TOW DUE TO CRASH'])]\n"
   ]
  },
  {
   "cell_type": "code",
   "execution_count": 18,
   "metadata": {},
   "outputs": [
    {
     "data": {
      "text/html": [
       "<div>\n",
       "<style scoped>\n",
       "    .dataframe tbody tr th:only-of-type {\n",
       "        vertical-align: middle;\n",
       "    }\n",
       "\n",
       "    .dataframe tbody tr th {\n",
       "        vertical-align: top;\n",
       "    }\n",
       "\n",
       "    .dataframe thead th {\n",
       "        text-align: right;\n",
       "    }\n",
       "</style>\n",
       "<table border=\"1\" class=\"dataframe\">\n",
       "  <thead>\n",
       "    <tr style=\"text-align: right;\">\n",
       "      <th>CRASH_TYPE</th>\n",
       "      <th>INJURY AND / OR TOW DUE TO CRASH</th>\n",
       "      <th>NO INJURY / DRIVE AWAY</th>\n",
       "    </tr>\n",
       "    <tr>\n",
       "      <th>WEATHER_CONDITION</th>\n",
       "      <th></th>\n",
       "      <th></th>\n",
       "    </tr>\n",
       "  </thead>\n",
       "  <tbody>\n",
       "    <tr>\n",
       "      <td>BLOWING SNOW</td>\n",
       "      <td>8</td>\n",
       "      <td>17</td>\n",
       "    </tr>\n",
       "    <tr>\n",
       "      <td>CLEAR</td>\n",
       "      <td>66255</td>\n",
       "      <td>230132</td>\n",
       "    </tr>\n",
       "    <tr>\n",
       "      <td>CLOUDY/OVERCAST</td>\n",
       "      <td>3305</td>\n",
       "      <td>8119</td>\n",
       "    </tr>\n",
       "    <tr>\n",
       "      <td>FOG/SMOKE/HAZE</td>\n",
       "      <td>228</td>\n",
       "      <td>472</td>\n",
       "    </tr>\n",
       "    <tr>\n",
       "      <td>FREEZING RAIN/DRIZZLE</td>\n",
       "      <td>72</td>\n",
       "      <td>131</td>\n",
       "    </tr>\n",
       "    <tr>\n",
       "      <td>OTHER</td>\n",
       "      <td>445</td>\n",
       "      <td>761</td>\n",
       "    </tr>\n",
       "    <tr>\n",
       "      <td>RAIN</td>\n",
       "      <td>10153</td>\n",
       "      <td>24624</td>\n",
       "    </tr>\n",
       "    <tr>\n",
       "      <td>SEVERE CROSS WIND GATE</td>\n",
       "      <td>22</td>\n",
       "      <td>62</td>\n",
       "    </tr>\n",
       "    <tr>\n",
       "      <td>SLEET/HAIL</td>\n",
       "      <td>228</td>\n",
       "      <td>376</td>\n",
       "    </tr>\n",
       "    <tr>\n",
       "      <td>SNOW</td>\n",
       "      <td>3321</td>\n",
       "      <td>9836</td>\n",
       "    </tr>\n",
       "    <tr>\n",
       "      <td>UNKNOWN</td>\n",
       "      <td>1520</td>\n",
       "      <td>14641</td>\n",
       "    </tr>\n",
       "  </tbody>\n",
       "</table>\n",
       "</div>"
      ],
      "text/plain": [
       "CRASH_TYPE              INJURY AND / OR TOW DUE TO CRASH  \\\n",
       "WEATHER_CONDITION                                          \n",
       "BLOWING SNOW                                           8   \n",
       "CLEAR                                              66255   \n",
       "CLOUDY/OVERCAST                                     3305   \n",
       "FOG/SMOKE/HAZE                                       228   \n",
       "FREEZING RAIN/DRIZZLE                                 72   \n",
       "OTHER                                                445   \n",
       "RAIN                                               10153   \n",
       "SEVERE CROSS WIND GATE                                22   \n",
       "SLEET/HAIL                                           228   \n",
       "SNOW                                                3321   \n",
       "UNKNOWN                                             1520   \n",
       "\n",
       "CRASH_TYPE              NO INJURY / DRIVE AWAY  \n",
       "WEATHER_CONDITION                               \n",
       "BLOWING SNOW                                17  \n",
       "CLEAR                                   230132  \n",
       "CLOUDY/OVERCAST                           8119  \n",
       "FOG/SMOKE/HAZE                             472  \n",
       "FREEZING RAIN/DRIZZLE                      131  \n",
       "OTHER                                      761  \n",
       "RAIN                                     24624  \n",
       "SEVERE CROSS WIND GATE                      62  \n",
       "SLEET/HAIL                                 376  \n",
       "SNOW                                      9836  \n",
       "UNKNOWN                                  14641  "
      ]
     },
     "execution_count": 18,
     "metadata": {},
     "output_type": "execute_result"
    }
   ],
   "source": [
    "pd.crosstab(df2.WEATHER_CONDITION,df2.CRASH_TYPE)\n"
   ]
  },
  {
   "cell_type": "code",
   "execution_count": 19,
   "metadata": {},
   "outputs": [
    {
     "data": {
      "text/plain": [
       "Text(0, 0.5, 'Injuries')"
      ]
     },
     "execution_count": 19,
     "metadata": {},
     "output_type": "execute_result"
    },
    {
     "data": {
      "image/png": "[encoded data removed]",
      "text/plain": [
       "<Figure size 720x360 with 1 Axes>"
      ]
     },
     "metadata": {
      "needs_background": "light"
     },
     "output_type": "display_data"
    }
   ],
   "source": [
    "my_plot=pd.crosstab(df2.WEATHER_CONDITION,df2.CRASH_TYPE).plot(kind='bar',figsize=(10,5))\n",
    "plt.title(\" Crashes that end up in injury in different Weather Type\")\n",
    "plt.xlabel(\"Weather Type\")\n",
    "plt.ylabel(\"Injuries\")\n",
    "                                                     \n"
   ]
  },
  {
   "cell_type": "code",
   "execution_count": null,
   "metadata": {},
   "outputs": [],
   "source": [
    "# In what weather do crashes end up in injury the most?"
   ]
  },
  {
   "cell_type": "code",
   "execution_count": null,
   "metadata": {},
   "outputs": [],
   "source": []
  }
 ],
 "metadata": {
  "kernelspec": {
   "display_name": "Python 3",
   "language": "python",
   "name": "python3"
  },
  "language_info": {
   "codemirror_mode": {
    "name": "ipython",
    "version": 3
   },
   "file_extension": ".py",
   "mimetype": "text/x-python",
   "name": "python",
   "nbconvert_exporter": "python",
   "pygments_lexer": "ipython3",
   "version": "3.7.4"
  }
 },
 "nbformat": 4,
 "nbformat_minor": 4
}
